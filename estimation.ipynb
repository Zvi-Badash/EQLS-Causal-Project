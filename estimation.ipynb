{
 "cells": [
  {
   "cell_type": "code",
   "execution_count": null,
   "id": "02e5f60e",
   "metadata": {},
   "outputs": [],
   "source": [
    "import warnings\n",
    "import random\n",
    "\n",
    "import numpy as np\n",
    "import pandas as pd\n",
    "from sklearn.linear_model import LogisticRegression\n",
    "from sklearn.exceptions import ConvergenceWarning\n",
    "import seaborn as sns\n",
    "import matplotlib.pyplot as plt\n",
    "\n",
    "from estimation_utils import load_data, load_graph, propensity_overlap_graph, estimate_effects"
   ]
  },
  {
   "cell_type": "code",
   "execution_count": null,
   "id": "2b3e7b5c",
   "metadata": {},
   "outputs": [],
   "source": [
    "plt.style.use('ggplot')"
   ]
  },
  {
   "cell_type": "code",
   "execution_count": null,
   "id": "b3ccbefb",
   "metadata": {},
   "outputs": [],
   "source": [
    "warnings.filterwarnings(\"ignore\", category=ConvergenceWarning)\n",
    "warnings.filterwarnings(\"ignore\", category=FutureWarning)"
   ]
  },
  {
   "cell_type": "code",
   "execution_count": null,
   "id": "f19e1312",
   "metadata": {},
   "outputs": [],
   "source": [
    "seed = 42\n",
    "random.seed(seed)\n",
    "np.random.seed(seed)"
   ]
  },
  {
   "cell_type": "code",
   "execution_count": null,
   "id": "bfc273bb",
   "metadata": {},
   "outputs": [],
   "source": [
    "df = load_data()\n",
    "graph = load_graph()\n",
    "results = estimate_effects(df, graph)\n",
    "pd.DataFrame(results, index=[0]).T.rename(columns={0: \"ATE\"})"
   ]
  },
  {
   "cell_type": "code",
   "execution_count": null,
   "id": "f826f23d",
   "metadata": {},
   "outputs": [],
   "source": [
    "ps_model = LogisticRegression(max_iter=2000, class_weight=\"balanced\")\n",
    "_ = propensity_overlap_graph(\n",
    "    df, graph, method=\"backdoor.propensity_score_weighting\", ps_model=ps_model,\n",
    "    figpath=\"figs/propensity_overlap.svg\"\n",
    ")"
   ]
  },
  {
   "cell_type": "code",
   "execution_count": null,
   "id": "fca0ec33",
   "metadata": {},
   "outputs": [],
   "source": [
    "results, ci_df, boot_df = estimate_effects(df, graph, return_cis=True, n_boot=100)"
   ]
  },
  {
   "cell_type": "code",
   "execution_count": null,
   "id": "8505ee2f",
   "metadata": {},
   "outputs": [],
   "source": [
    "boot_df = pd.read_csv('bootstraps/current.csv')\n",
    "boot_df = boot_df.rename(columns={\n",
    "    c: ' '.join(c.split('.')[1:]).title().replace('_', ' ').replace('Propensity', 'Prop.').replace('Linear Regression', 'S-Learner').replace('T Learner', 'T-Learner').replace('Distance Matching', 'Distance Matching\\n(Gower\\'s Distance)')\n",
    "    for c in boot_df.columns\n",
    "})"
   ]
  },
  {
   "cell_type": "code",
   "execution_count": null,
   "id": "0de25136",
   "metadata": {},
   "outputs": [],
   "source": [
    "plt.figure(figsize=(30, 10))\n",
    "plt.rcParams.update({'font.size': 25})\n",
    "sns.violinplot(data=boot_df)\n",
    "plt.ylabel(\"ATE\")\n",
    "plt.xticks(rotation=0)\n",
    "plt.tight_layout()\n",
    "plt.savefig(\"figs/ate_comparison_violin.svg\", format=\"svg\", bbox_inches=\"tight\")\n",
    "plt.show()"
   ]
  },
  {
   "cell_type": "code",
   "execution_count": null,
   "id": "b1446d24",
   "metadata": {},
   "outputs": [],
   "source": []
  }
 ],
 "metadata": {
  "kernelspec": {
   "display_name": "EQLS-Causal-Project",
   "language": "python",
   "name": "python3"
  },
  "language_info": {
   "codemirror_mode": {
    "name": "ipython",
    "version": 3
   },
   "file_extension": ".py",
   "mimetype": "text/x-python",
   "name": "python",
   "nbconvert_exporter": "python",
   "pygments_lexer": "ipython3",
   "version": "3.10.12"
  }
 },
 "nbformat": 4,
 "nbformat_minor": 5
}
