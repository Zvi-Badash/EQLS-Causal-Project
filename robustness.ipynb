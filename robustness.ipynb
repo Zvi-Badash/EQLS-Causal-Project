{
 "cells": [
  {
   "cell_type": "code",
   "execution_count": null,
   "id": "dd922a20",
   "metadata": {},
   "outputs": [],
   "source": [
    "import pickle\n",
    "from pathlib import Path\n",
    "from typing import Dict\n",
    "\n",
    "import networkx as nx\n",
    "import pandas as pd\n",
    "from dowhy import CausalModel\n",
    "\n",
    "from structure_data import choose_columns, preprocess_data\n",
    "\n",
    "ROOT = Path('./')\n",
    "RAW_DATA = ROOT / \"raw_data/csv/eqls_2007and2011.csv\"\n",
    "DICT_PATH = ROOT / \"data/dictionary.json\"\n",
    "GRAPH_PATH = ROOT / \"graphs/full_causal.gpickle\"\n",
    "TREATMENT = \"Y11_Q57\"\n",
    "OUTCOME = \"Y11_MWIndex\"\n",
    "METHODS = [\n",
    "    \"backdoor.propensity_score_matching\",\n",
    "    \"backdoor.propensity_score_weighting\",\n",
    "    \"backdoor.propensity_score_stratification\",\n",
    "    \"backdoor.linear_regression\",\n",
    "    \"backdoor.distance_matching\",\n",
    "]\n",
    "\n",
    "\n",
    "def load_data() -> pd.DataFrame:\n",
    "    \"\"\"Load and preprocess the raw EQLS data.\"\"\"\n",
    "    df = choose_columns()\n",
    "    df = preprocess_data(\n",
    "        df,\n",
    "        na_threshold=0.5,\n",
    "        impute_strategy=\"drop\",\n",
    "        treatment_dichotomize_value=\"median\",\n",
    "        treatment_column=TREATMENT,\n",
    "    )\n",
    "    return df\n",
    "\n",
    "\n",
    "def load_graph() -> nx.DiGraph:\n",
    "    \"\"\"Load the causal graph describing relationships among variables.\"\"\"\n",
    "    with open(GRAPH_PATH, \"rb\") as f:\n",
    "        return pickle.load(f)\n",
    "\n",
    "\n",
    "def estimate_effects(model: CausalModel, df: pd.DataFrame, graph: nx.DiGraph, methods: list = [], kwargs: dict = {}) -> Dict[str, float]:\n",
    "    \"\"\"Estimate ATE using several DoWhy estimators.\"\"\"\n",
    "\n",
    "    estimand = model.identify_effect()\n",
    "    methods = [\n",
    "        \"backdoor.propensity_score_matching\",\n",
    "        \"backdoor.propensity_score_weighting\",\n",
    "        \"backdoor.propensity_score_stratification\",\n",
    "        \"backdoor.linear_regression\",\n",
    "        \"backdoor.distance_matching\",\n",
    "    ] if not methods else methods\n",
    "    kwargs = {\n",
    "        \"backdoor.distance_matching\": {\n",
    "            \"method_params\": {'distance_metric': \"minkowski\", 'p': 2}\n",
    "        }\n",
    "    } if not kwargs else kwargs\n",
    "    results: Dict[str, float] = {}\n",
    "    for m in methods:\n",
    "        try:\n",
    "            est = model.estimate_effect(estimand, method_name=m, **kwargs.get(m, {}))\n",
    "            results[m] = float(est.value)\n",
    "        except Exception as e:\n",
    "            print(f\"[!] Estimation with {m} failed: {e}\")\n",
    "            results[m] = float(\"nan\")\n",
    "    return results"
   ]
  },
  {
   "cell_type": "code",
   "execution_count": null,
   "id": "93bcd33b",
   "metadata": {},
   "outputs": [],
   "source": [
    "df = load_data()\n",
    "graph = load_graph()\n",
    "model = CausalModel(\n",
    "        data=df,\n",
    "        treatment=TREATMENT,\n",
    "        outcome=OUTCOME,\n",
    "        graph=nx.nx_pydot.to_pydot(graph).to_string(),\n",
    "    )"
   ]
  },
  {
   "cell_type": "markdown",
   "id": "9a693318",
   "metadata": {},
   "source": [
    "**Robustness Checks**"
   ]
  },
  {
   "cell_type": "markdown",
   "id": "3f910261",
   "metadata": {},
   "source": [
    "Matching"
   ]
  },
  {
   "cell_type": "code",
   "execution_count": null,
   "id": "49e16347",
   "metadata": {},
   "outputs": [],
   "source": []
  }
 ],
 "metadata": {
  "kernelspec": {
   "display_name": "causal",
   "language": "python",
   "name": "python3"
  },
  "language_info": {
   "name": "python",
   "version": "3.11.12"
  }
 },
 "nbformat": 4,
 "nbformat_minor": 5
}
