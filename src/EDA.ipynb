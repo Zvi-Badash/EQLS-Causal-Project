{
 "cells": [
  {
   "cell_type": "code",
   "execution_count": null,
   "id": "737774f0",
   "metadata": {},
   "outputs": [],
   "source": [
    "import pandas as pd\n",
    "import matplotlib.pyplot as plt"
   ]
  },
  {
   "cell_type": "code",
   "execution_count": null,
   "metadata": {},
   "outputs": [],
   "source": [
    "df_raw = pd.read_csv('../raw_data/csv/eqls_2007and2011.csv')\n",
    "df_processed = pd.read_csv(\"../data/eqls_processed.csv\")"
   ]
  },
  {
   "cell_type": "code",
   "execution_count": null,
   "id": "2bb26ffb",
   "metadata": {},
   "outputs": [],
   "source": [
    "df_processed.shape"
   ]
  },
  {
   "cell_type": "code",
   "execution_count": null,
   "id": "4c517154",
   "metadata": {},
   "outputs": [],
   "source": [
    "df_processed.columns"
   ]
  },
  {
   "cell_type": "code",
   "execution_count": null,
   "id": "0c0dbf28",
   "metadata": {},
   "outputs": [],
   "source": [
    "df_processed"
   ]
  },
  {
   "cell_type": "code",
   "execution_count": null,
   "id": "ea944f86",
   "metadata": {},
   "outputs": [],
   "source": [
    "# Check the employment status bug\n",
    "fig, ax = plt.subplots(figsize=(10, 6))\n",
    "fig.tight_layout()\n",
    "df_raw['Y11_EmploymentStatus'].value_counts(normalize=True).plot(kind='bar', ax=ax, color='blue', alpha=0.5)\n",
    "df_processed['Y11_EmploymentStatus'].value_counts(normalize=True).plot(kind='bar', ax=ax, color='orange', alpha=0.5)\n"
   ]
  }
 ],
 "metadata": {
  "kernelspec": {
   "display_name": "EQLS-Causal-Project",
   "language": "python",
   "name": "python3"
  },
  "language_info": {
   "codemirror_mode": {
    "name": "ipython",
    "version": 3
   },
   "file_extension": ".py",
   "mimetype": "text/x-python",
   "name": "python",
   "nbconvert_exporter": "python",
   "pygments_lexer": "ipython3",
   "version": "3.10.12"
  }
 },
 "nbformat": 4,
 "nbformat_minor": 5
}
