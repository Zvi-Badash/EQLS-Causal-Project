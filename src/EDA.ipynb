{
 "cells": [
  {
   "cell_type": "code",
   "execution_count": null,
   "id": "737774f0",
   "metadata": {},
   "outputs": [],
   "source": [
    "import pandas as pd\n",
    "import matplotlib.pyplot as plt"
   ]
  },
  {
   "cell_type": "code",
   "execution_count": null,
   "metadata": {},
   "outputs": [],
   "source": [
    "df_raw = pd.read_csv('../raw_data/csv/eqls_2007and2011.csv')\n",
    "df_processed = pd.read_csv(\"../data/eqls_processed.csv\")"
   ]
  },
  {
   "cell_type": "code",
   "execution_count": null,
   "id": "2bb26ffb",
   "metadata": {},
   "outputs": [],
   "source": [
    "df_processed.shape"
   ]
  },
  {
   "cell_type": "code",
   "execution_count": null,
   "id": "4c517154",
   "metadata": {},
   "outputs": [],
   "source": [
    "df_processed.columns"
   ]
  },
  {
   "cell_type": "code",
   "execution_count": null,
   "id": "0c0dbf28",
   "metadata": {},
   "outputs": [],
   "source": [
    "df_processed"
   ]
  },
  {
   "cell_type": "code",
   "execution_count": null,
   "id": "ea944f86",
   "metadata": {},
   "outputs": [],
   "source": [
    "# Label mapping\n",
    "label_map = {\n",
    "    1.0: \"Employed\",\n",
    "    2.0: \"Unemployed\",\n",
    "    3.0: \"Unable to work\",\n",
    "    4.0: \"Retired\",\n",
    "    5.0: \"Homemaker\",\n",
    "    6.0: \"Student\",\n",
    "    7.0: \"Other\"\n",
    "}\n",
    "\n",
    "# Normalized counts\n",
    "counts_raw = df_raw['Y11_EmploymentStatus'].value_counts(normalize=True)\n",
    "counts_processed = df_processed['Y11_EmploymentStatus'].value_counts(normalize=True)\n",
    "\n",
    "# Align categories by value (1–7)\n",
    "all_idx = sorted(label_map.keys())\n",
    "counts_raw = counts_raw.reindex(all_idx, fill_value=0)\n",
    "counts_processed = counts_processed.reindex(all_idx, fill_value=0)\n",
    "\n",
    "# Plot\n",
    "plt.style.use(\"ggplot\")\n",
    "fig, ax = plt.subplots(figsize=(10, 6))\n",
    "\n",
    "x = range(len(all_idx))\n",
    "bar_width = 0.4\n",
    "\n",
    "ax.bar([i - bar_width/2 for i in x], counts_raw, width=bar_width, label=\"Raw\", alpha=0.8)\n",
    "ax.bar([i + bar_width/2 for i in x], counts_processed, width=bar_width, label=\"Processed\", alpha=0.8)\n",
    "\n",
    "ax.set_xticks(list(x))\n",
    "ax.set_xticklabels([label_map[val] for val in all_idx])\n",
    "ax.set_ylabel(\"Proportion\")\n",
    "ax.legend()\n",
    "\n",
    "fig.tight_layout()\n",
    "fig.savefig(\"../figs/employment_status_comparison.svg\", format=\"svg\", bbox_inches=\"tight\")"
   ]
  }
 ],
 "metadata": {
  "kernelspec": {
   "display_name": "EQLS-Causal-Project",
   "language": "python",
   "name": "python3"
  },
  "language_info": {
   "codemirror_mode": {
    "name": "ipython",
    "version": 3
   },
   "file_extension": ".py",
   "mimetype": "text/x-python",
   "name": "python",
   "nbconvert_exporter": "python",
   "pygments_lexer": "ipython3",
   "version": "3.10.12"
  }
 },
 "nbformat": 4,
 "nbformat_minor": 5
}
