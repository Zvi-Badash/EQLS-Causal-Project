{
 "cells": [
  {
   "cell_type": "code",
   "execution_count": 1,
   "id": "737774f0",
   "metadata": {},
   "outputs": [],
   "source": [
    "import pandas as pd\n",
    "import matplotlib.pyplot as plt"
   ]
  },
  {
   "cell_type": "code",
   "execution_count": 3,
   "metadata": {},
   "outputs": [
    {
     "name": "stdout",
     "output_type": "stream",
     "text": [
      "5 Most NA columns (percentage and count):\n",
      "DV_Q7: 97.19% (77045/79270)\n",
      "Y11_Q7b: 97.14% (77006/79270)\n",
      "Y11_Q56d: 94.28% (74733/79270)\n",
      "Y11_Q56a: 94.24% (74703/79270)\n",
      "Y11_Q56c: 94.22% (74686/79270)\n"
     ]
    }
   ],
   "source": [
    "df = pd.read_csv('/home/paperspace/EQLS-Causal-Project/raw_data/csv/eqls_2007and2011.csv')\n",
    "\n",
    "total_rows = df.shape[0]\n",
    "na_counts = df.isna().sum()\n",
    "\n",
    "most_na_5 = na_counts.nlargest(5)\n",
    "least_na_5 = na_counts.nsmallest(5)\n",
    "\n",
    "print(\"5 Most NA columns (percentage and count):\")\n",
    "for col, count in most_na_5.items():\n",
    "    pct = (count / total_rows) * 100\n",
    "    print(f\"{col}: {pct:.2f}% ({count}/{total_rows})\")"
   ]
  },
  {
   "cell_type": "code",
   "execution_count": null,
   "id": "ea944f86",
   "metadata": {},
   "outputs": [],
   "source": []
  }
 ],
 "metadata": {
  "kernelspec": {
   "display_name": "EQLS-Causal-Project",
   "language": "python",
   "name": "python3"
  },
  "language_info": {
   "codemirror_mode": {
    "name": "ipython",
    "version": 3
   },
   "file_extension": ".py",
   "mimetype": "text/x-python",
   "name": "python",
   "nbconvert_exporter": "python",
   "pygments_lexer": "ipython3",
   "version": "3.10.12"
  }
 },
 "nbformat": 4,
 "nbformat_minor": 5
}
